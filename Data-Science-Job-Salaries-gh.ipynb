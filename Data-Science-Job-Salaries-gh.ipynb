{
 "cells": [
  {
   "cell_type": "code",
   "execution_count": 1,
   "metadata": {},
   "outputs": [],
   "source": [
    "import pandas as pd\n",
    "import numpy as np"
   ]
  },
  {
   "cell_type": "code",
   "execution_count": 2,
   "metadata": {},
   "outputs": [],
   "source": [
    "# Load the dataset from a CSV file into a Pandas DataFrame\n",
    "df = pd.read_csv(\"ds_salaries.csv\")\n"
   ]
  },
  {
   "cell_type": "code",
   "execution_count": 3,
   "metadata": {},
   "outputs": [
    {
     "data": {
      "text/html": [
       "<div>\n",
       "<style scoped>\n",
       "    .dataframe tbody tr th:only-of-type {\n",
       "        vertical-align: middle;\n",
       "    }\n",
       "\n",
       "    .dataframe tbody tr th {\n",
       "        vertical-align: top;\n",
       "    }\n",
       "\n",
       "    .dataframe thead th {\n",
       "        text-align: right;\n",
       "    }\n",
       "</style>\n",
       "<table border=\"1\" class=\"dataframe\">\n",
       "  <thead>\n",
       "    <tr style=\"text-align: right;\">\n",
       "      <th></th>\n",
       "      <th>Unnamed: 0</th>\n",
       "      <th>work_year</th>\n",
       "      <th>experience_level</th>\n",
       "      <th>employment_type</th>\n",
       "      <th>job_title</th>\n",
       "      <th>salary</th>\n",
       "      <th>salary_currency</th>\n",
       "      <th>salary_in_usd</th>\n",
       "      <th>employee_residence</th>\n",
       "      <th>remote_ratio</th>\n",
       "      <th>company_location</th>\n",
       "      <th>company_size</th>\n",
       "    </tr>\n",
       "  </thead>\n",
       "  <tbody>\n",
       "    <tr>\n",
       "      <th>0</th>\n",
       "      <td>0</td>\n",
       "      <td>2020</td>\n",
       "      <td>MI</td>\n",
       "      <td>FT</td>\n",
       "      <td>Data Scientist</td>\n",
       "      <td>70000</td>\n",
       "      <td>EUR</td>\n",
       "      <td>79833</td>\n",
       "      <td>DE</td>\n",
       "      <td>0</td>\n",
       "      <td>DE</td>\n",
       "      <td>L</td>\n",
       "    </tr>\n",
       "    <tr>\n",
       "      <th>1</th>\n",
       "      <td>1</td>\n",
       "      <td>2020</td>\n",
       "      <td>SE</td>\n",
       "      <td>FT</td>\n",
       "      <td>Machine Learning Scientist</td>\n",
       "      <td>260000</td>\n",
       "      <td>USD</td>\n",
       "      <td>260000</td>\n",
       "      <td>JP</td>\n",
       "      <td>0</td>\n",
       "      <td>JP</td>\n",
       "      <td>S</td>\n",
       "    </tr>\n",
       "    <tr>\n",
       "      <th>2</th>\n",
       "      <td>2</td>\n",
       "      <td>2020</td>\n",
       "      <td>SE</td>\n",
       "      <td>FT</td>\n",
       "      <td>Big Data Engineer</td>\n",
       "      <td>85000</td>\n",
       "      <td>GBP</td>\n",
       "      <td>109024</td>\n",
       "      <td>GB</td>\n",
       "      <td>50</td>\n",
       "      <td>GB</td>\n",
       "      <td>M</td>\n",
       "    </tr>\n",
       "    <tr>\n",
       "      <th>3</th>\n",
       "      <td>3</td>\n",
       "      <td>2020</td>\n",
       "      <td>MI</td>\n",
       "      <td>FT</td>\n",
       "      <td>Product Data Analyst</td>\n",
       "      <td>20000</td>\n",
       "      <td>USD</td>\n",
       "      <td>20000</td>\n",
       "      <td>HN</td>\n",
       "      <td>0</td>\n",
       "      <td>HN</td>\n",
       "      <td>S</td>\n",
       "    </tr>\n",
       "    <tr>\n",
       "      <th>4</th>\n",
       "      <td>4</td>\n",
       "      <td>2020</td>\n",
       "      <td>SE</td>\n",
       "      <td>FT</td>\n",
       "      <td>Machine Learning Engineer</td>\n",
       "      <td>150000</td>\n",
       "      <td>USD</td>\n",
       "      <td>150000</td>\n",
       "      <td>US</td>\n",
       "      <td>50</td>\n",
       "      <td>US</td>\n",
       "      <td>L</td>\n",
       "    </tr>\n",
       "  </tbody>\n",
       "</table>\n",
       "</div>"
      ],
      "text/plain": [
       "   Unnamed: 0  work_year experience_level employment_type  \\\n",
       "0           0       2020               MI              FT   \n",
       "1           1       2020               SE              FT   \n",
       "2           2       2020               SE              FT   \n",
       "3           3       2020               MI              FT   \n",
       "4           4       2020               SE              FT   \n",
       "\n",
       "                    job_title  salary salary_currency  salary_in_usd  \\\n",
       "0              Data Scientist   70000             EUR          79833   \n",
       "1  Machine Learning Scientist  260000             USD         260000   \n",
       "2           Big Data Engineer   85000             GBP         109024   \n",
       "3        Product Data Analyst   20000             USD          20000   \n",
       "4   Machine Learning Engineer  150000             USD         150000   \n",
       "\n",
       "  employee_residence  remote_ratio company_location company_size  \n",
       "0                 DE             0               DE            L  \n",
       "1                 JP             0               JP            S  \n",
       "2                 GB            50               GB            M  \n",
       "3                 HN             0               HN            S  \n",
       "4                 US            50               US            L  "
      ]
     },
     "execution_count": 3,
     "metadata": {},
     "output_type": "execute_result"
    }
   ],
   "source": [
    "# Display the first few rows of the dataset for an initial glimpse\n",
    "df.head()"
   ]
  },
  {
   "cell_type": "code",
   "execution_count": 4,
   "metadata": {},
   "outputs": [
    {
     "data": {
      "text/html": [
       "<div>\n",
       "<style scoped>\n",
       "    .dataframe tbody tr th:only-of-type {\n",
       "        vertical-align: middle;\n",
       "    }\n",
       "\n",
       "    .dataframe tbody tr th {\n",
       "        vertical-align: top;\n",
       "    }\n",
       "\n",
       "    .dataframe thead th {\n",
       "        text-align: right;\n",
       "    }\n",
       "</style>\n",
       "<table border=\"1\" class=\"dataframe\">\n",
       "  <thead>\n",
       "    <tr style=\"text-align: right;\">\n",
       "      <th></th>\n",
       "      <th>Unnamed: 0</th>\n",
       "      <th>work_year</th>\n",
       "      <th>salary</th>\n",
       "      <th>salary_in_usd</th>\n",
       "      <th>remote_ratio</th>\n",
       "    </tr>\n",
       "  </thead>\n",
       "  <tbody>\n",
       "    <tr>\n",
       "      <th>count</th>\n",
       "      <td>607.000000</td>\n",
       "      <td>607.000000</td>\n",
       "      <td>6.070000e+02</td>\n",
       "      <td>607.000000</td>\n",
       "      <td>607.00000</td>\n",
       "    </tr>\n",
       "    <tr>\n",
       "      <th>mean</th>\n",
       "      <td>303.000000</td>\n",
       "      <td>2021.405272</td>\n",
       "      <td>3.240001e+05</td>\n",
       "      <td>112297.869852</td>\n",
       "      <td>70.92257</td>\n",
       "    </tr>\n",
       "    <tr>\n",
       "      <th>std</th>\n",
       "      <td>175.370085</td>\n",
       "      <td>0.692133</td>\n",
       "      <td>1.544357e+06</td>\n",
       "      <td>70957.259411</td>\n",
       "      <td>40.70913</td>\n",
       "    </tr>\n",
       "    <tr>\n",
       "      <th>min</th>\n",
       "      <td>0.000000</td>\n",
       "      <td>2020.000000</td>\n",
       "      <td>4.000000e+03</td>\n",
       "      <td>2859.000000</td>\n",
       "      <td>0.00000</td>\n",
       "    </tr>\n",
       "    <tr>\n",
       "      <th>25%</th>\n",
       "      <td>151.500000</td>\n",
       "      <td>2021.000000</td>\n",
       "      <td>7.000000e+04</td>\n",
       "      <td>62726.000000</td>\n",
       "      <td>50.00000</td>\n",
       "    </tr>\n",
       "    <tr>\n",
       "      <th>50%</th>\n",
       "      <td>303.000000</td>\n",
       "      <td>2022.000000</td>\n",
       "      <td>1.150000e+05</td>\n",
       "      <td>101570.000000</td>\n",
       "      <td>100.00000</td>\n",
       "    </tr>\n",
       "    <tr>\n",
       "      <th>75%</th>\n",
       "      <td>454.500000</td>\n",
       "      <td>2022.000000</td>\n",
       "      <td>1.650000e+05</td>\n",
       "      <td>150000.000000</td>\n",
       "      <td>100.00000</td>\n",
       "    </tr>\n",
       "    <tr>\n",
       "      <th>max</th>\n",
       "      <td>606.000000</td>\n",
       "      <td>2022.000000</td>\n",
       "      <td>3.040000e+07</td>\n",
       "      <td>600000.000000</td>\n",
       "      <td>100.00000</td>\n",
       "    </tr>\n",
       "  </tbody>\n",
       "</table>\n",
       "</div>"
      ],
      "text/plain": [
       "       Unnamed: 0    work_year        salary  salary_in_usd  remote_ratio\n",
       "count  607.000000   607.000000  6.070000e+02     607.000000     607.00000\n",
       "mean   303.000000  2021.405272  3.240001e+05  112297.869852      70.92257\n",
       "std    175.370085     0.692133  1.544357e+06   70957.259411      40.70913\n",
       "min      0.000000  2020.000000  4.000000e+03    2859.000000       0.00000\n",
       "25%    151.500000  2021.000000  7.000000e+04   62726.000000      50.00000\n",
       "50%    303.000000  2022.000000  1.150000e+05  101570.000000     100.00000\n",
       "75%    454.500000  2022.000000  1.650000e+05  150000.000000     100.00000\n",
       "max    606.000000  2022.000000  3.040000e+07  600000.000000     100.00000"
      ]
     },
     "execution_count": 4,
     "metadata": {},
     "output_type": "execute_result"
    }
   ],
   "source": [
    "# Generate summary statistics of the dataset\n",
    "df.describe()"
   ]
  },
  {
   "cell_type": "code",
   "execution_count": 5,
   "metadata": {},
   "outputs": [
    {
     "data": {
      "text/plain": [
       "Unnamed: 0            0\n",
       "work_year             0\n",
       "experience_level      0\n",
       "employment_type       0\n",
       "job_title             0\n",
       "salary                0\n",
       "salary_currency       0\n",
       "salary_in_usd         0\n",
       "employee_residence    0\n",
       "remote_ratio          0\n",
       "company_location      0\n",
       "company_size          0\n",
       "dtype: int64"
      ]
     },
     "execution_count": 5,
     "metadata": {},
     "output_type": "execute_result"
    }
   ],
   "source": [
    "# Count the missing values in each column of the dataset\n",
    "df.isnull().sum()"
   ]
  },
  {
   "cell_type": "code",
   "execution_count": 6,
   "metadata": {},
   "outputs": [
    {
     "data": {
      "text/html": [
       "<div>\n",
       "<style scoped>\n",
       "    .dataframe tbody tr th:only-of-type {\n",
       "        vertical-align: middle;\n",
       "    }\n",
       "\n",
       "    .dataframe tbody tr th {\n",
       "        vertical-align: top;\n",
       "    }\n",
       "\n",
       "    .dataframe thead th {\n",
       "        text-align: right;\n",
       "    }\n",
       "</style>\n",
       "<table border=\"1\" class=\"dataframe\">\n",
       "  <thead>\n",
       "    <tr style=\"text-align: right;\">\n",
       "      <th></th>\n",
       "      <th>job_title</th>\n",
       "      <th>count</th>\n",
       "    </tr>\n",
       "  </thead>\n",
       "  <tbody>\n",
       "    <tr>\n",
       "      <th>0</th>\n",
       "      <td>Data Scientist</td>\n",
       "      <td>143</td>\n",
       "    </tr>\n",
       "    <tr>\n",
       "      <th>1</th>\n",
       "      <td>Data Engineer</td>\n",
       "      <td>132</td>\n",
       "    </tr>\n",
       "    <tr>\n",
       "      <th>2</th>\n",
       "      <td>Data Analyst</td>\n",
       "      <td>97</td>\n",
       "    </tr>\n",
       "    <tr>\n",
       "      <th>3</th>\n",
       "      <td>Machine Learning Engineer</td>\n",
       "      <td>41</td>\n",
       "    </tr>\n",
       "    <tr>\n",
       "      <th>4</th>\n",
       "      <td>Research Scientist</td>\n",
       "      <td>16</td>\n",
       "    </tr>\n",
       "    <tr>\n",
       "      <th>5</th>\n",
       "      <td>Data Science Manager</td>\n",
       "      <td>12</td>\n",
       "    </tr>\n",
       "    <tr>\n",
       "      <th>6</th>\n",
       "      <td>Data Architect</td>\n",
       "      <td>11</td>\n",
       "    </tr>\n",
       "    <tr>\n",
       "      <th>7</th>\n",
       "      <td>Big Data Engineer</td>\n",
       "      <td>8</td>\n",
       "    </tr>\n",
       "    <tr>\n",
       "      <th>8</th>\n",
       "      <td>Machine Learning Scientist</td>\n",
       "      <td>8</td>\n",
       "    </tr>\n",
       "    <tr>\n",
       "      <th>9</th>\n",
       "      <td>Principal Data Scientist</td>\n",
       "      <td>7</td>\n",
       "    </tr>\n",
       "  </tbody>\n",
       "</table>\n",
       "</div>"
      ],
      "text/plain": [
       "                    job_title  count\n",
       "0              Data Scientist    143\n",
       "1               Data Engineer    132\n",
       "2                Data Analyst     97\n",
       "3   Machine Learning Engineer     41\n",
       "4          Research Scientist     16\n",
       "5        Data Science Manager     12\n",
       "6              Data Architect     11\n",
       "7           Big Data Engineer      8\n",
       "8  Machine Learning Scientist      8\n",
       "9    Principal Data Scientist      7"
      ]
     },
     "execution_count": 6,
     "metadata": {},
     "output_type": "execute_result"
    }
   ],
   "source": [
    "# Count and display the top 10 most common job titles in the dataset\n",
    "jobtitle = df['job_title'].value_counts().head(10)\n",
    "jobs = pd.DataFrame(jobtitle)\n",
    "jobs.reset_index()"
   ]
  },
  {
   "cell_type": "markdown",
   "metadata": {},
   "source": [
    "### Which job title earns the highest average salary? "
   ]
  },
  {
   "cell_type": "code",
   "execution_count": 7,
   "metadata": {},
   "outputs": [
    {
     "data": {
      "text/plain": [
       "job_title\n",
       "Data Analytics Lead                         405000.000000\n",
       "Principal Data Engineer                     328333.333333\n",
       "Financial Data Analyst                      275000.000000\n",
       "Principal Data Scientist                    215242.428571\n",
       "Director of Data Science                    195074.000000\n",
       "Data Architect                              177873.909091\n",
       "Applied Data Scientist                      175655.000000\n",
       "Analytics Engineer                          175000.000000\n",
       "Data Specialist                             165000.000000\n",
       "Head of Data                                160162.600000\n",
       "Machine Learning Scientist                  158412.500000\n",
       "Data Science Manager                        158328.500000\n",
       "Director of Data Engineering                156738.000000\n",
       "Head of Data Science                        146718.750000\n",
       "Applied Machine Learning Scientist          142068.750000\n",
       "Lead Data Engineer                          139724.500000\n",
       "Data Analytics Manager                      127134.285714\n",
       "Cloud Data Engineer                         124647.000000\n",
       "Data Engineering Manager                    123227.200000\n",
       "Principal Data Analyst                      122500.000000\n",
       "ML Engineer                                 117504.000000\n",
       "Machine Learning Manager                    117104.000000\n",
       "Lead Data Scientist                         115190.000000\n",
       "Data Engineer                               112725.000000\n",
       "Research Scientist                          109019.500000\n",
       "Data Scientist                              108187.832168\n",
       "Computer Vision Software Engineer           105248.666667\n",
       "Staff Data Scientist                        105000.000000\n",
       "Machine Learning Engineer                   104880.146341\n",
       "Machine Learning Infrastructure Engineer    101145.000000\n",
       "Big Data Architect                           99703.000000\n",
       "Data Analyst                                 92893.061856\n",
       "Lead Data Analyst                            92203.000000\n",
       "Marketing Data Analyst                       88654.000000\n",
       "Lead Machine Learning Engineer               87932.000000\n",
       "Machine Learning Developer                   85860.666667\n",
       "Head of Machine Learning                     79039.000000\n",
       "Business Data Analyst                        76691.200000\n",
       "Data Science Engineer                        75803.333333\n",
       "BI Data Analyst                              74755.166667\n",
       "Data Science Consultant                      69420.714286\n",
       "AI Scientist                                 66135.571429\n",
       "Data Analytics Engineer                      64799.250000\n",
       "Finance Data Analyst                         61896.000000\n",
       "ETL Developer                                54957.000000\n",
       "Big Data Engineer                            51974.000000\n",
       "Computer Vision Engineer                     44419.333333\n",
       "NLP Engineer                                 37236.000000\n",
       "Product Data Analyst                         13036.000000\n",
       "3D Computer Vision Researcher                 5409.000000\n",
       "Name: salary_in_usd, dtype: float64"
      ]
     },
     "execution_count": 7,
     "metadata": {},
     "output_type": "execute_result"
    }
   ],
   "source": [
    "# Calculate the mean salary for each job title and sort them in descending order\n",
    "df.groupby('job_title')['salary_in_usd'].mean().sort_values(ascending=False)"
   ]
  },
  {
   "cell_type": "markdown",
   "metadata": {},
   "source": [
    "### What is the highest salary?"
   ]
  },
  {
   "cell_type": "code",
   "execution_count": 8,
   "metadata": {},
   "outputs": [
    {
     "data": {
      "text/plain": [
       "job_title\n",
       "Principal Data Engineer                     600000\n",
       "Financial Data Analyst                      450000\n",
       "Research Scientist                          450000\n",
       "Applied Machine Learning Scientist          423000\n",
       "Principal Data Scientist                    416000\n",
       "Data Scientist                              412000\n",
       "Data Analytics Lead                         405000\n",
       "Applied Data Scientist                      380000\n",
       "Director of Data Science                    325000\n",
       "Data Engineer                               324000\n",
       "Lead Data Engineer                          276000\n",
       "ML Engineer                                 270000\n",
       "Data Architect                              266400\n",
       "Machine Learning Scientist                  260000\n",
       "Machine Learning Engineer                   250000\n",
       "Data Science Manager                        241000\n",
       "Head of Data                                235000\n",
       "Head of Data Science                        224000\n",
       "Analytics Engineer                          205300\n",
       "Data Analyst                                200000\n",
       "AI Scientist                                200000\n",
       "Director of Data Engineering                200000\n",
       "Machine Learning Infrastructure Engineer    195000\n",
       "Lead Data Scientist                         190000\n",
       "Data Engineering Manager                    174000\n",
       "Principal Data Analyst                      170000\n",
       "Lead Data Analyst                           170000\n",
       "Data Specialist                             165000\n",
       "Cloud Data Engineer                         160000\n",
       "Data Analytics Manager                      150260\n",
       "BI Data Analyst                             150000\n",
       "Computer Vision Software Engineer           150000\n",
       "Business Data Analyst                       135000\n",
       "Data Science Engineer                       127221\n",
       "Computer Vision Engineer                    125000\n",
       "Machine Learning Manager                    117104\n",
       "Big Data Engineer                           114047\n",
       "Data Analytics Engineer                     110000\n",
       "Staff Data Scientist                        105000\n",
       "Data Science Consultant                     103000\n",
       "Machine Learning Developer                  100000\n",
       "Big Data Architect                           99703\n",
       "Marketing Data Analyst                       88654\n",
       "Lead Machine Learning Engineer               87932\n",
       "Head of Machine Learning                     79039\n",
       "Finance Data Analyst                         61896\n",
       "ETL Developer                                54957\n",
       "NLP Engineer                                 37236\n",
       "Product Data Analyst                         20000\n",
       "3D Computer Vision Researcher                 5409\n",
       "Name: salary_in_usd, dtype: int64"
      ]
     },
     "execution_count": 8,
     "metadata": {},
     "output_type": "execute_result"
    }
   ],
   "source": [
    "# Find the highest salary for each job title and sort them in descending order\n",
    "df.groupby('job_title')['salary_in_usd'].max().sort_values(ascending=False)"
   ]
  },
  {
   "cell_type": "markdown",
   "metadata": {},
   "source": [
    "### What is the most in-demand qualification?"
   ]
  },
  {
   "cell_type": "code",
   "execution_count": 9,
   "metadata": {},
   "outputs": [
    {
     "data": {
      "text/plain": [
       "job_title\n",
       "Data Scientist                              143\n",
       "Data Engineer                               132\n",
       "Data Analyst                                 97\n",
       "Machine Learning Engineer                    41\n",
       "Research Scientist                           16\n",
       "Data Science Manager                         12\n",
       "Data Architect                               11\n",
       "Big Data Engineer                             8\n",
       "Machine Learning Scientist                    8\n",
       "Principal Data Scientist                      7\n",
       "AI Scientist                                  7\n",
       "Data Science Consultant                       7\n",
       "Director of Data Science                      7\n",
       "Data Analytics Manager                        7\n",
       "ML Engineer                                   6\n",
       "Computer Vision Engineer                      6\n",
       "BI Data Analyst                               6\n",
       "Lead Data Engineer                            6\n",
       "Data Engineering Manager                      5\n",
       "Business Data Analyst                         5\n",
       "Head of Data                                  5\n",
       "Applied Data Scientist                        5\n",
       "Applied Machine Learning Scientist            4\n",
       "Head of Data Science                          4\n",
       "Analytics Engineer                            4\n",
       "Data Analytics Engineer                       4\n",
       "Machine Learning Developer                    3\n",
       "Machine Learning Infrastructure Engineer      3\n",
       "Lead Data Scientist                           3\n",
       "Computer Vision Software Engineer             3\n",
       "Lead Data Analyst                             3\n",
       "Data Science Engineer                         3\n",
       "Principal Data Engineer                       3\n",
       "Principal Data Analyst                        2\n",
       "ETL Developer                                 2\n",
       "Product Data Analyst                          2\n",
       "Director of Data Engineering                  2\n",
       "Financial Data Analyst                        2\n",
       "Cloud Data Engineer                           2\n",
       "Lead Machine Learning Engineer                1\n",
       "NLP Engineer                                  1\n",
       "Head of Machine Learning                      1\n",
       "3D Computer Vision Researcher                 1\n",
       "Data Specialist                               1\n",
       "Staff Data Scientist                          1\n",
       "Big Data Architect                            1\n",
       "Finance Data Analyst                          1\n",
       "Marketing Data Analyst                        1\n",
       "Machine Learning Manager                      1\n",
       "Data Analytics Lead                           1\n",
       "Name: count, dtype: int64"
      ]
     },
     "execution_count": 9,
     "metadata": {},
     "output_type": "execute_result"
    }
   ],
   "source": [
    "# Count the frequency of each job title in the dataset\n",
    "df['job_title'].value_counts()"
   ]
  },
  {
   "cell_type": "markdown",
   "metadata": {},
   "source": [
    "### The average salary of a data engineer in 2022?"
   ]
  },
  {
   "cell_type": "code",
   "execution_count": 10,
   "metadata": {},
   "outputs": [
    {
     "data": {
      "text/plain": [
       "126375.69662921349"
      ]
     },
     "execution_count": 10,
     "metadata": {},
     "output_type": "execute_result"
    }
   ],
   "source": [
    "# Filter the dataset to select data engineer roles in the year 2022\n",
    "dataEngineer22 = df[(df['job_title'] == 'Data Engineer') & (df['work_year'] == 2022)]\n",
    "\n",
    "# Calculate the average salary for data engineers in 2022\n",
    "avgsalary22DE = dataEngineer22['salary_in_usd'].mean()\n",
    "avgsalary22DE\n"
   ]
  },
  {
   "cell_type": "markdown",
   "metadata": {},
   "source": [
    "### Employee residence with the highest salary\n"
   ]
  },
  {
   "cell_type": "code",
   "execution_count": 11,
   "metadata": {},
   "outputs": [
    {
     "data": {
      "text/plain": [
       "employee_residence\n",
       "US    600000\n",
       "JP    260000\n",
       "RU    230000\n",
       "IN    200000\n",
       "MY    200000\n",
       "CA    196979\n",
       "GB    183228\n",
       "DE    173762\n",
       "PR    160000\n",
       "BR    160000\n",
       "IT    153667\n",
       "AU    150000\n",
       "ES    130800\n",
       "NZ    125000\n",
       "CH    122346\n",
       "AE    120000\n",
       "SG    119059\n",
       "PL    114047\n",
       "SI    102839\n",
       "JE    100000\n",
       "IQ    100000\n",
       "DZ    100000\n",
       "FR     93427\n",
       "AT     91237\n",
       "GR     88654\n",
       "BE     88654\n",
       "NL     85000\n",
       "BG     80000\n",
       "RO     76833\n",
       "BO     75000\n",
       "IE     71444\n",
       "CZ     69999\n",
       "HK     66022\n",
       "PT     60757\n",
       "AR     60000\n",
       "LU     59102\n",
       "PK     58035\n",
       "NG     50000\n",
       "VN     50000\n",
       "DK     45896\n",
       "PH     45760\n",
       "HR     45618\n",
       "CN     43331\n",
       "CL     40038\n",
       "HU     36259\n",
       "MX     33511\n",
       "EE     32974\n",
       "TN     31875\n",
       "MT     28369\n",
       "TR     28016\n",
       "RS     25532\n",
       "CO     21844\n",
       "HN     20000\n",
       "MD     18000\n",
       "UA     13400\n",
       "KE      9272\n",
       "IR      4000\n",
       "Name: salary_in_usd, dtype: int64"
      ]
     },
     "execution_count": 11,
     "metadata": {},
     "output_type": "execute_result"
    }
   ],
   "source": [
    "# Find the highest salary for each employee residence and sort them in descending order\n",
    "df.groupby('employee_residence')['salary_in_usd'].max().sort_values(ascending=False)"
   ]
  },
  {
   "cell_type": "markdown",
   "metadata": {},
   "source": [
    "### How many with minimum/maximum experience work remotely?"
   ]
  },
  {
   "cell_type": "code",
   "execution_count": 12,
   "metadata": {},
   "outputs": [
    {
     "data": {
      "text/plain": [
       "213"
      ]
     },
     "execution_count": 12,
     "metadata": {},
     "output_type": "execute_result"
    }
   ],
   "source": [
    "# Print the count of individuals with 'MI' (minimum experience) in the 'experience_level' column\n",
    "df['experience_level'].value_counts()['MI']"
   ]
  }
 ],
 "metadata": {
  "kernelspec": {
   "display_name": "Python 3",
   "language": "python",
   "name": "python3"
  },
  "language_info": {
   "codemirror_mode": {
    "name": "ipython",
    "version": 3
   },
   "file_extension": ".py",
   "mimetype": "text/x-python",
   "name": "python",
   "nbconvert_exporter": "python",
   "pygments_lexer": "ipython3",
   "version": "3.11.5"
  },
  "orig_nbformat": 4
 },
 "nbformat": 4,
 "nbformat_minor": 2
}
